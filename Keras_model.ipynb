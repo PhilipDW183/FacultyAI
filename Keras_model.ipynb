{
 "cells": [
  {
   "cell_type": "code",
   "execution_count": 1,
   "metadata": {},
   "outputs": [
    {
     "name": "stderr",
     "output_type": "stream",
     "text": [
      "Using TensorFlow backend.\n"
     ]
    }
   ],
   "source": [
    "import math\n",
    "import matplotlib.pyplot as plt\n",
    "import keras\n",
    "import pandas as pd\n",
    "import numpy as np\n",
    "from keras.models import Sequential\n",
    "from keras.layers import Dense\n",
    "from keras.layers import LSTM\n",
    "from keras.layers import Dropout\n",
    "from keras.layers import *\n",
    "from sklearn.preprocessing import MinMaxScaler\n",
    "from sklearn.metrics import mean_squared_error\n",
    "from sklearn.metrics import mean_absolute_error\n",
    "from sklearn.model_selection import train_test_split\n",
    "from keras.callbacks import EarlyStopping"
   ]
  },
  {
   "cell_type": "code",
   "execution_count": 2,
   "metadata": {},
   "outputs": [],
   "source": [
    "import pandas_datareader.data as web\n",
    "import pandas as pd\n",
    "import datetime as dt\n",
    "\n",
    "#start date\n",
    "start = dt.datetime(2015,1,1)\n",
    "#last data point to download      \n",
    "end = dt.datetime(2020,1,1) \n",
    "\n",
    "#symbol\n",
    "symbol = 'TSLA' \n",
    "\n",
    "##source of the data\n",
    "source = 'yahoo'\n",
    "\n",
    "#read the data frome the web\n",
    "df = web.DataReader(symbol, source, start)[[\"Close\"]]\n",
    "#reset the index to make date callable\n",
    "df.reset_index(inplace=True)"
   ]
  },
  {
   "cell_type": "code",
   "execution_count": 3,
   "metadata": {},
   "outputs": [
    {
     "data": {
      "text/plain": [
       "(1478, 2)"
      ]
     },
     "execution_count": 3,
     "metadata": {},
     "output_type": "execute_result"
    }
   ],
   "source": [
    "#check the shape\n",
    "df.shape"
   ]
  },
  {
   "cell_type": "code",
   "execution_count": 4,
   "metadata": {},
   "outputs": [
    {
     "data": {
      "text/plain": [
       "1478"
      ]
     },
     "execution_count": 4,
     "metadata": {},
     "output_type": "execute_result"
    }
   ],
   "source": [
    "len(df)"
   ]
  },
  {
   "cell_type": "code",
   "execution_count": 5,
   "metadata": {},
   "outputs": [],
   "source": [
    "df[\"Date\"] = pd.to_datetime(df[\"Date\"], infer_datetime_format=True)"
   ]
  },
  {
   "cell_type": "code",
   "execution_count": 6,
   "metadata": {},
   "outputs": [],
   "source": [
    "training_set = df[df[\"Date\"] < \"01/01/2019\"][[\"Close\"]]\n",
    "test_set = df[(df[\"Date\"] >= \"01/01/2019\") & (df[\"Date\"] < \"01/01/2020\")][[\"Close\"]]"
   ]
  },
  {
   "cell_type": "code",
   "execution_count": 7,
   "metadata": {},
   "outputs": [],
   "source": [
    "#feature scaling\n",
    "sc = MinMaxScaler(feature_range =(0,1))\n",
    "training_set_scaled = sc.fit_transform(training_set)\n",
    "\n",
    "#creating a datastructure with 60 time-steps\n",
    "X_train = []\n",
    "y_train = []\n",
    "for i in range(60, 1006):\n",
    "    X_train.append(training_set_scaled[i-60:i, 0])\n",
    "    y_train.append(training_set_scaled[i, 0])\n",
    "X_train, y_train = np.array(X_train), np.array(y_train)\n",
    "X_train = np.reshape(X_train, (X_train.shape[0], X_train.shape[1], 1))"
   ]
  },
  {
   "cell_type": "code",
   "execution_count": 8,
   "metadata": {
    "scrolled": true
   },
   "outputs": [
    {
     "name": "stdout",
     "output_type": "stream",
     "text": [
      "Epoch 1/100\n",
      "946/946 [==============================] - 4s 5ms/step - loss: 0.0676\n",
      "Epoch 2/100\n",
      "946/946 [==============================] - 3s 3ms/step - loss: 0.0155\n",
      "Epoch 3/100\n",
      "946/946 [==============================] - 2s 3ms/step - loss: 0.0137\n",
      "Epoch 4/100\n",
      "946/946 [==============================] - 3s 3ms/step - loss: 0.0129\n",
      "Epoch 5/100\n",
      "946/946 [==============================] - 3s 3ms/step - loss: 0.0137\n",
      "Epoch 6/100\n",
      "946/946 [==============================] - 3s 3ms/step - loss: 0.0117\n",
      "Epoch 7/100\n",
      "946/946 [==============================] - 3s 3ms/step - loss: 0.0127\n",
      "Epoch 8/100\n",
      "946/946 [==============================] - 3s 3ms/step - loss: 0.0120\n",
      "Epoch 9/100\n",
      "946/946 [==============================] - 3s 3ms/step - loss: 0.0111\n",
      "Epoch 10/100\n",
      "946/946 [==============================] - 3s 3ms/step - loss: 0.0102\n",
      "Epoch 11/100\n",
      "946/946 [==============================] - 3s 3ms/step - loss: 0.0096\n",
      "Epoch 12/100\n",
      "946/946 [==============================] - 3s 3ms/step - loss: 0.0091\n",
      "Epoch 13/100\n",
      "946/946 [==============================] - 3s 3ms/step - loss: 0.0092\n",
      "Epoch 14/100\n",
      "946/946 [==============================] - 3s 3ms/step - loss: 0.0094\n",
      "Epoch 15/100\n",
      "946/946 [==============================] - 3s 3ms/step - loss: 0.0086\n",
      "Epoch 16/100\n",
      "946/946 [==============================] - 3s 3ms/step - loss: 0.0076\n",
      "Epoch 17/100\n",
      "946/946 [==============================] - 3s 3ms/step - loss: 0.0083\n",
      "Epoch 18/100\n",
      "946/946 [==============================] - 3s 3ms/step - loss: 0.0072\n",
      "Epoch 19/100\n",
      "946/946 [==============================] - 3s 3ms/step - loss: 0.0077\n",
      "Epoch 20/100\n",
      "946/946 [==============================] - 3s 3ms/step - loss: 0.0070\n",
      "Epoch 21/100\n",
      "946/946 [==============================] - 3s 3ms/step - loss: 0.0068A: 0s - los\n",
      "Epoch 22/100\n",
      "946/946 [==============================] - 3s 3ms/step - loss: 0.0070\n",
      "Epoch 23/100\n",
      "946/946 [==============================] - 3s 3ms/step - loss: 0.0062\n",
      "Epoch 24/100\n",
      "946/946 [==============================] - 3s 3ms/step - loss: 0.0065\n",
      "Epoch 25/100\n",
      "946/946 [==============================] - 3s 3ms/step - loss: 0.0067\n",
      "Epoch 26/100\n",
      "946/946 [==============================] - 3s 3ms/step - loss: 0.0057\n",
      "Epoch 27/100\n",
      "946/946 [==============================] - 3s 3ms/step - loss: 0.0060\n",
      "Epoch 28/100\n",
      "946/946 [==============================] - 3s 3ms/step - loss: 0.0055\n",
      "Epoch 29/100\n",
      "946/946 [==============================] - ETA: 0s - loss: 0.005 - 4s 4ms/step - loss: 0.0058\n",
      "Epoch 30/100\n",
      "946/946 [==============================] - 3s 3ms/step - loss: 0.0058\n",
      "Epoch 31/100\n",
      "946/946 [==============================] - 3s 4ms/step - loss: 0.0055\n",
      "Epoch 32/100\n",
      "946/946 [==============================] - 3s 3ms/step - loss: 0.0049\n",
      "Epoch 33/100\n",
      "946/946 [==============================] - 3s 3ms/step - loss: 0.0053\n",
      "Epoch 34/100\n",
      "946/946 [==============================] - 3s 3ms/step - loss: 0.0058\n",
      "Epoch 35/100\n",
      "946/946 [==============================] - 3s 3ms/step - loss: 0.0053\n",
      "Epoch 36/100\n",
      "946/946 [==============================] - 3s 3ms/step - loss: 0.0054\n",
      "Epoch 37/100\n",
      "946/946 [==============================] - 3s 3ms/step - loss: 0.0048\n",
      "Epoch 38/100\n",
      "946/946 [==============================] - 4s 4ms/step - loss: 0.0047\n",
      "Epoch 39/100\n",
      "946/946 [==============================] - 4s 4ms/step - loss: 0.0046\n",
      "Epoch 40/100\n",
      "946/946 [==============================] - 3s 4ms/step - loss: 0.0043\n",
      "Epoch 41/100\n",
      "946/946 [==============================] - 3s 3ms/step - loss: 0.0050\n",
      "Epoch 42/100\n",
      "946/946 [==============================] - 3s 3ms/step - loss: 0.0050\n",
      "Epoch 43/100\n",
      "946/946 [==============================] - 3s 4ms/step - loss: 0.0045\n",
      "Epoch 44/100\n",
      "946/946 [==============================] - 4s 4ms/step - loss: 0.0050\n",
      "Epoch 45/100\n",
      "946/946 [==============================] - 4s 4ms/step - loss: 0.0047\n",
      "Epoch 46/100\n",
      "946/946 [==============================] - 3s 4ms/step - loss: 0.0043\n",
      "Epoch 47/100\n",
      "946/946 [==============================] - 3s 3ms/step - loss: 0.0046\n",
      "Epoch 48/100\n",
      "946/946 [==============================] - 4s 4ms/step - loss: 0.0042\n",
      "Epoch 49/100\n",
      "946/946 [==============================] - 4s 4ms/step - loss: 0.0045\n",
      "Epoch 50/100\n",
      "946/946 [==============================] - 4s 4ms/step - loss: 0.0043\n",
      "Epoch 51/100\n",
      "946/946 [==============================] - 3s 4ms/step - loss: 0.0044\n",
      "Epoch 52/100\n",
      "946/946 [==============================] - 3s 3ms/step - loss: 0.0040\n",
      "Epoch 53/100\n",
      "946/946 [==============================] - 3s 3ms/step - loss: 0.0044\n",
      "Epoch 54/100\n",
      "946/946 [==============================] - 3s 3ms/step - loss: 0.0038\n",
      "Epoch 55/100\n",
      "946/946 [==============================] - 3s 3ms/step - loss: 0.0039\n",
      "Epoch 56/100\n",
      "946/946 [==============================] - 3s 3ms/step - loss: 0.0034\n",
      "Epoch 57/100\n",
      "946/946 [==============================] - 3s 3ms/step - loss: 0.0038\n",
      "Epoch 58/100\n",
      "946/946 [==============================] - 3s 3ms/step - loss: 0.0041\n",
      "Epoch 59/100\n",
      "946/946 [==============================] - 3s 3ms/step - loss: 0.0039\n",
      "Epoch 60/100\n",
      "946/946 [==============================] - 4s 4ms/step - loss: 0.0037\n",
      "Epoch 61/100\n",
      "946/946 [==============================] - 4s 4ms/step - loss: 0.0045\n",
      "Epoch 62/100\n",
      "946/946 [==============================] - 4s 4ms/step - loss: 0.0040\n",
      "Epoch 63/100\n",
      "946/946 [==============================] - 4s 4ms/step - loss: 0.0037\n",
      "Epoch 64/100\n",
      "946/946 [==============================] - 4s 4ms/step - loss: 0.0036\n",
      "Epoch 65/100\n",
      "946/946 [==============================] - 4s 4ms/step - loss: 0.0038\n",
      "Epoch 66/100\n",
      "946/946 [==============================] - 4s 4ms/step - loss: 0.0035\n",
      "Epoch 67/100\n",
      "946/946 [==============================] - 4s 5ms/step - loss: 0.0036\n",
      "Epoch 68/100\n",
      "946/946 [==============================] - 4s 4ms/step - loss: 0.0036\n",
      "Epoch 69/100\n",
      "946/946 [==============================] - 4s 5ms/step - loss: 0.0034\n",
      "Epoch 70/100\n",
      "946/946 [==============================] - 4s 4ms/step - loss: 0.0035\n",
      "Epoch 71/100\n",
      "946/946 [==============================] - 4s 4ms/step - loss: 0.0033\n",
      "Epoch 72/100\n",
      "946/946 [==============================] - 4s 5ms/step - loss: 0.0037\n",
      "Epoch 73/100\n",
      "946/946 [==============================] - 4s 4ms/step - loss: 0.0036\n",
      "Epoch 74/100\n",
      "946/946 [==============================] - 3s 4ms/step - loss: 0.0036\n",
      "Epoch 75/100\n",
      "946/946 [==============================] - 3s 4ms/step - loss: 0.0034\n",
      "Epoch 76/100\n",
      "946/946 [==============================] - 4s 4ms/step - loss: 0.0033\n",
      "Epoch 77/100\n",
      "946/946 [==============================] - 4s 4ms/step - loss: 0.0031\n",
      "Epoch 78/100\n",
      "946/946 [==============================] - 3s 4ms/step - loss: 0.0032\n",
      "Epoch 79/100\n",
      "946/946 [==============================] - 4s 4ms/step - loss: 0.0030\n",
      "Epoch 80/100\n",
      "946/946 [==============================] - 3s 3ms/step - loss: 0.0032\n",
      "Epoch 81/100\n",
      "946/946 [==============================] - 3s 3ms/step - loss: 0.0031\n",
      "Epoch 82/100\n",
      "946/946 [==============================] - 4s 4ms/step - loss: 0.0028\n",
      "Epoch 83/100\n",
      "946/946 [==============================] - 4s 4ms/step - loss: 0.0029\n",
      "Epoch 84/100\n",
      "946/946 [==============================] - 3s 3ms/step - loss: 0.0029\n",
      "Epoch 85/100\n",
      "946/946 [==============================] - 3s 3ms/step - loss: 0.0029\n",
      "Epoch 86/100\n",
      "946/946 [==============================] - 3s 3ms/step - loss: 0.0031\n",
      "Epoch 87/100\n",
      "946/946 [==============================] - 3s 4ms/step - loss: 0.0031\n",
      "Epoch 88/100\n",
      "946/946 [==============================] - 3s 4ms/step - loss: 0.0030\n",
      "Epoch 89/100\n",
      "946/946 [==============================] - 4s 4ms/step - loss: 0.0031\n",
      "Epoch 90/100\n",
      "946/946 [==============================] - 4s 4ms/step - loss: 0.0032\n",
      "Epoch 91/100\n",
      "946/946 [==============================] - 3s 4ms/step - loss: 0.0029\n",
      "Epoch 92/100\n",
      "946/946 [==============================] - 4s 4ms/step - loss: 0.0027\n",
      "Epoch 93/100\n",
      "946/946 [==============================] - 3s 3ms/step - loss: 0.0027\n",
      "Epoch 94/100\n",
      "946/946 [==============================] - 3s 3ms/step - loss: 0.0029\n",
      "Epoch 95/100\n",
      "946/946 [==============================] - 3s 3ms/step - loss: 0.0028\n",
      "Epoch 96/100\n",
      "946/946 [==============================] - 3s 3ms/step - loss: 0.0028\n",
      "Epoch 97/100\n",
      "946/946 [==============================] - 3s 3ms/step - loss: 0.0026\n",
      "Epoch 98/100\n",
      "946/946 [==============================] - 3s 3ms/step - loss: 0.0024\n",
      "Epoch 99/100\n"
     ]
    },
    {
     "name": "stdout",
     "output_type": "stream",
     "text": [
      "946/946 [==============================] - 3s 3ms/step - loss: 0.0026\n",
      "Epoch 100/100\n",
      "946/946 [==============================] - 3s 3ms/step - loss: 0.0025\n"
     ]
    },
    {
     "data": {
      "text/plain": [
       "<keras.callbacks.callbacks.History at 0x270d2987608>"
      ]
     },
     "execution_count": 8,
     "metadata": {},
     "output_type": "execute_result"
    }
   ],
   "source": [
    "#get the sequential model\n",
    "model = Sequential()\n",
    "#Adding the first LSTM layer and some Dropout regularisation\n",
    "model.add(LSTM(units = 50, return_sequences = True, input_shape = (X_train.shape[1], 1)))\n",
    "model.add(Dropout(0.2))\n",
    "# Adding a second LSTM layer and some Dropout regularisation\n",
    "model.add(LSTM(units = 50, return_sequences = True))\n",
    "model.add(Dropout(0.2))\n",
    "# Adding a third LSTM layer and some Dropout regularisation\n",
    "model.add(LSTM(units = 50, return_sequences = True))\n",
    "model.add(Dropout(0.2))\n",
    "# Adding a fourth LSTM layer and some Dropout regularisation\n",
    "model.add(LSTM(units = 50, return_sequences = True))\n",
    "model.add(Dropout(0.2))\n",
    "#adding a fifth LSTM layer \n",
    "model.add(LSTM(units = 50))\n",
    "model.add(Dropout(0.2))\n",
    "# Adding the output layer\n",
    "model.add(Dense(units = 1))\n",
    "# Compiling the RNN\n",
    "model.compile(optimizer = 'adam', loss = 'mean_squared_error')\n",
    "# Fitting the RNN to the Training set\n",
    "model.fit(X_train, y_train, epochs = 100, batch_size = 32)"
   ]
  },
  {
   "cell_type": "code",
   "execution_count": 9,
   "metadata": {},
   "outputs": [],
   "source": [
    "# Getting the data prior to 2019\n",
    "dataset_train = df[df[\"Date\"] < \"01/01/2019\"][[\"Close\"]]\n",
    "#getting the validation dataset for 2019\n",
    "dataset_test = df[(df[\"Date\"] >= \"01/01/2019\") & (df[\"Date\"] < \"01/01/2020\")][[\"Close\"]]\n",
    "#adding the dataframes together\n",
    "dataset_total = pd.concat((dataset_train, dataset_test), axis = 0)\n",
    "#getting the length of the input values to use\n",
    "inputs = dataset_total[len(dataset_total) - len(dataset_test) - 60:].values\n",
    "#reshaping the inputs\n",
    "inputs = inputs.reshape(-1,1)\n",
    "#transforming the inputs using the min-max transformation to standardise\n",
    "inputs = sc.transform(inputs)\n",
    "#getting out the test dataset\n",
    "X_test = []\n",
    "#getting the previous 60 days worth of information\n",
    "for i in range(60, 312):\n",
    "    X_test.append(inputs[i-60:i, 0])\n",
    "#turning this into an array\n",
    "X_test = np.array(X_test)\n",
    "#reshaping the array\n",
    "X_test = np.reshape(X_test, (X_test.shape[0], X_test.shape[1], 1))\n"
   ]
  },
  {
   "cell_type": "code",
   "execution_count": 10,
   "metadata": {},
   "outputs": [],
   "source": [
    "#use the model to predict the stock price\n",
    "predicted_stock_price = model.predict(X_test)\n",
    "#inversley transform the data\n",
    "predicted_stock_price = sc.inverse_transform(predicted_stock_price)"
   ]
  },
  {
   "cell_type": "code",
   "execution_count": 11,
   "metadata": {},
   "outputs": [
    {
     "data": {
      "image/png": "[encoded data removed]",
      "text/plain": [
       "<Figure size 432x288 with 1 Axes>"
      ]
     },
     "metadata": {
      "needs_background": "light"
     },
     "output_type": "display_data"
    }
   ],
   "source": [
    "# Visualising the results\n",
    "plt.plot(df[(df[\"Date\"] >= \"01/01/2019\") & (df[\"Date\"] < \"01/01/2020\")][[\"Date\"]],dataset_test.values, color = 'red', label = 'Real TESLA Stock Price')\n",
    "plt.plot(df[(df[\"Date\"] >= \"01/01/2019\") & (df[\"Date\"] < \"01/01/2020\")][[\"Date\"]],predicted_stock_price, color = 'blue', label = 'Predicted TESLA Stock Price')\n",
    "plt.title('TESLA Stock')\n",
    "plt.xlabel('Time')\n",
    "plt.ylabel('TESLA Stock Price')\n",
    "plt.legend()\n",
    "plt.show()"
   ]
  },
  {
   "cell_type": "code",
   "execution_count": 12,
   "metadata": {},
   "outputs": [],
   "source": [
    "#extract the values\n",
    "test_values = [float(x) for x in dataset_test.values]\n",
    "predicted = [float(x) for x in predicted_stock_price]"
   ]
  },
  {
   "cell_type": "code",
   "execution_count": 13,
   "metadata": {},
   "outputs": [
    {
     "name": "stdout",
     "output_type": "stream",
     "text": [
      "0.977045634447188\n",
      "6.649476530027415e-170\n"
     ]
    }
   ],
   "source": [
    "#get the pearson correlation coefficient between the predicted and actual stock prices\n",
    "from scipy.stats import pearsonr\n",
    "corr, p = pearsonr(test_values, predicted)\n",
    "print(corr)\n",
    "print(p)"
   ]
  },
  {
   "cell_type": "code",
   "execution_count": null,
   "metadata": {},
   "outputs": [],
   "source": []
  }
 ],
 "metadata": {
  "kernelspec": {
   "display_name": "kerasGPU",
   "language": "python",
   "name": "kerasgpu"
  },
  "language_info": {
   "codemirror_mode": {
    "name": "ipython",
    "version": 3
   },
   "file_extension": ".py",
   "mimetype": "text/x-python",
   "name": "python",
   "nbconvert_exporter": "python",
   "pygments_lexer": "ipython3",
   "version": "3.7.8"
  }
 },
 "nbformat": 4,
 "nbformat_minor": 4
}
